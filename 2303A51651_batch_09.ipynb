{
  "nbformat": 4,
  "nbformat_minor": 0,
  "metadata": {
    "colab": {
      "provenance": [],
      "authorship_tag": "ABX9TyPcBA8siplqHTyJ+fH1n8/N",
      "include_colab_link": true
    },
    "kernelspec": {
      "name": "python3",
      "display_name": "Python 3"
    },
    "language_info": {
      "name": "python"
    }
  },
  "cells": [
    {
      "cell_type": "markdown",
      "metadata": {
        "id": "view-in-github",
        "colab_type": "text"
      },
      "source": [
        "<a href=\"https://colab.research.google.com/github/suramshivamani/AIML-2025/blob/main/2303A51651_batch_09.ipynb\" target=\"_parent\"><img src=\"https://colab.research.google.com/assets/colab-badge.svg\" alt=\"Open In Colab\"/></a>"
      ]
    },
    {
      "cell_type": "markdown",
      "source": [],
      "metadata": {
        "id": "MabJNrE65OhV"
      }
    },
    {
      "cell_type": "code",
      "execution_count": 5,
      "metadata": {
        "colab": {
          "base_uri": "https://localhost:8080/",
          "height": 106
        },
        "id": "wVgVJTN7y4yG",
        "outputId": "9a14992a-6b22-473e-863d-5eeb7ff9519b"
      },
      "outputs": [
        {
          "output_type": "error",
          "ename": "SyntaxError",
          "evalue": "invalid decimal literal (<ipython-input-5-a532c9abb53d>, line 9)",
          "traceback": [
            "\u001b[0;36m  File \u001b[0;32m\"<ipython-input-5-a532c9abb53d>\"\u001b[0;36m, line \u001b[0;32m9\u001b[0m\n\u001b[0;31m    21.YoutColl min spam content? Q4.Name the date when most spam content was produced\u001b[0m\n\u001b[0m      ^\u001b[0m\n\u001b[0;31mSyntaxError\u001b[0m\u001b[0;31m:\u001b[0m invalid decimal literal\n"
          ]
        }
      ],
      "source": [
        "#Prediction of You Tube Spams in Music content\n",
        "\n",
        "Q1.Identify the top 5 spam music videos of KatyPerry?\n",
        "\n",
        "Q2.Name the music singer with the highest spam content on YoouTube? I\n",
        "\n",
        "Q3. Identify the total number of Music Video with max and min spam content\n",
        "\n",
        "21.YoutColl min spam content? Q4.Name the date when most spam content was produced\n",
        "\n",
        "and by which singer?\n",
        "\n",
        "Q5.Name the singer and song most watched in Yout Tube?"
      ]
    },
    {
      "cell_type": "code",
      "source": [
        "import pandas as pd\n",
        "\n",
        "# Load all datasets into a single DataFrame\n",
        "df1 = pd.read_csv('/content/Youtube01-Psy.csv')\n",
        "df2 = pd.read_csv('/content/Youtube02-KatyPerry.csv')\n",
        "df3 = pd.read_csv('/content/Youtube03-LMFAO.csv')\n",
        "df4 = pd.read_csv('/content/Youtube04-Eminem.csv')\n",
        "df5 = pd.read_csv('/content/Youtube05-Shakira.csv')\n",
        "\n",
        "# Concatenate all DataFrames into one\n",
        "df = pd.concat([df1, df2, df3, df4, df5], ignore_index=True)\n",
        "\n",
        "# Ensure relevant columns exist\n",
        "required_columns = ['video_id', 'video_title', 'comment', 'CLASS', 'date', 'singer', 'views']  # Replace 'label' with 'CLASS'\n",
        "\n",
        "# Rename the 'CLASS' column to 'label' for consistency with your code\n",
        "df = df.rename(columns={'CLASS': 'label'})\n",
        "\n",
        "# ... (rest of your code remains the same)\n",
        "# Filter spam comments\n",
        "df_spam = df[df['label'] == 'spam']\n",
        "\n",
        "# ... (rest of your analysis code)\n",
        "\n",
        "# Q1: Identify the top 5 spam music videos of Katy Perry\n",
        "katy_perry_videos = df_spam[df_spam['video_title'].str.contains('Katy Perry', case=False, na=False)]\n",
        "top_katy_perry_videos = katy_perry_videos['video_title'].value_counts().head(5)\n",
        "print(\"Q1: Top 5 spam music videos of Katy Perry:\")\n",
        "print(top_katy_perry_videos)\n",
        "\n",
        "# Q2: Name the music singer with the highest spam content on YouTube\n",
        "singer_spam_counts = df_spam['singer'].value_counts()\n",
        "top_spam_singer = singer_spam_counts.idxmax()\n",
        "top_spam_count = singer_spam_counts.max()\n",
        "print(f\"Q2: The singer with the highest spam content is {top_spam_singer} with {top_spam_count} spam comments.\")\n",
        "\n",
        "# Q3: Total number of music videos with max and min spam content\n",
        "spam_video_counts = df_spam['video_id'].value_counts()\n",
        "max_spam_video_id = spam_video_counts.idxmax()\n",
        "min_spam_video_id = spam_video_counts.idxmin()\n",
        "print(f\"Q3: Video with max spam content: {max_spam_video_id} (Count: {spam_video_counts[max_spam_video_id]})\")\n",
        "print(f\"Q3: Video with min spam content: {min_spam_video_id} (Count: {spam_video_counts[min_spam_video_id]})\")\n",
        "\n",
        "# Q4: Name the date when most spam content was produced and by which singer\n",
        "spam_by_date = df_spam.groupby('date').size()\n",
        "most_spam_date = spam_by_date.idxmax()\n",
        "most_spam_date_count = spam_by_date.max()\n",
        "singer_on_most_spam_date = (\n",
        "    df_spam[df_spam['date'] == most_spam_date]['singer']\n",
        "    .value_counts()\n",
        "    .idxmax()\n",
        ")\n",
        "print(f\"Q4: The date with most spam content is {most_spam_date} with {most_spam_date_count} spam comments.\")\n",
        "print(f\"Q4: The singer with the most spam on this date is {singer_on_most_spam_date}.\")\n",
        "\n",
        "# Q5: Name the singer and song most watched on YouTube\n",
        "most_watched_video = df.iloc[df['views'].idxmax()]\n",
        "most_watched_song = most_watched_video['video_title']\n",
        "most_watched_singer = most_watched_video['singer']\n",
        "most_watched_views = most_watched_video['views']\n",
        "print(f\"Q5: The most-watched song on YouTube is '{most_watched_song}' by {most_watched_singer} with {most_watched_views} views.\")\n"
      ],
      "metadata": {
        "colab": {
          "base_uri": "https://localhost:8080/",
          "height": 616
        },
        "id": "ppj9A4lY3tGa",
        "outputId": "2452a5b6-fb88-42e7-de2a-1dd1da789c1a"
      },
      "execution_count": 9,
      "outputs": [
        {
          "output_type": "error",
          "ename": "KeyError",
          "evalue": "'video_title'",
          "traceback": [
            "\u001b[0;31m---------------------------------------------------------------------------\u001b[0m",
            "\u001b[0;31mKeyError\u001b[0m                                  Traceback (most recent call last)",
            "\u001b[0;32m/usr/local/lib/python3.10/dist-packages/pandas/core/indexes/base.py\u001b[0m in \u001b[0;36mget_loc\u001b[0;34m(self, key)\u001b[0m\n\u001b[1;32m   3804\u001b[0m         \u001b[0;32mtry\u001b[0m\u001b[0;34m:\u001b[0m\u001b[0;34m\u001b[0m\u001b[0;34m\u001b[0m\u001b[0m\n\u001b[0;32m-> 3805\u001b[0;31m             \u001b[0;32mreturn\u001b[0m \u001b[0mself\u001b[0m\u001b[0;34m.\u001b[0m\u001b[0m_engine\u001b[0m\u001b[0;34m.\u001b[0m\u001b[0mget_loc\u001b[0m\u001b[0;34m(\u001b[0m\u001b[0mcasted_key\u001b[0m\u001b[0;34m)\u001b[0m\u001b[0;34m\u001b[0m\u001b[0;34m\u001b[0m\u001b[0m\n\u001b[0m\u001b[1;32m   3806\u001b[0m         \u001b[0;32mexcept\u001b[0m \u001b[0mKeyError\u001b[0m \u001b[0;32mas\u001b[0m \u001b[0merr\u001b[0m\u001b[0;34m:\u001b[0m\u001b[0;34m\u001b[0m\u001b[0;34m\u001b[0m\u001b[0m\n",
            "\u001b[0;32mindex.pyx\u001b[0m in \u001b[0;36mpandas._libs.index.IndexEngine.get_loc\u001b[0;34m()\u001b[0m\n",
            "\u001b[0;32mindex.pyx\u001b[0m in \u001b[0;36mpandas._libs.index.IndexEngine.get_loc\u001b[0;34m()\u001b[0m\n",
            "\u001b[0;32mpandas/_libs/hashtable_class_helper.pxi\u001b[0m in \u001b[0;36mpandas._libs.hashtable.PyObjectHashTable.get_item\u001b[0;34m()\u001b[0m\n",
            "\u001b[0;32mpandas/_libs/hashtable_class_helper.pxi\u001b[0m in \u001b[0;36mpandas._libs.hashtable.PyObjectHashTable.get_item\u001b[0;34m()\u001b[0m\n",
            "\u001b[0;31mKeyError\u001b[0m: 'video_title'",
            "\nThe above exception was the direct cause of the following exception:\n",
            "\u001b[0;31mKeyError\u001b[0m                                  Traceback (most recent call last)",
            "\u001b[0;32m<ipython-input-9-fa3422e1d4b0>\u001b[0m in \u001b[0;36m<cell line: 26>\u001b[0;34m()\u001b[0m\n\u001b[1;32m     24\u001b[0m \u001b[0;34m\u001b[0m\u001b[0m\n\u001b[1;32m     25\u001b[0m \u001b[0;31m# Q1: Identify the top 5 spam music videos of Katy Perry\u001b[0m\u001b[0;34m\u001b[0m\u001b[0;34m\u001b[0m\u001b[0m\n\u001b[0;32m---> 26\u001b[0;31m \u001b[0mkaty_perry_videos\u001b[0m \u001b[0;34m=\u001b[0m \u001b[0mdf_spam\u001b[0m\u001b[0;34m[\u001b[0m\u001b[0mdf_spam\u001b[0m\u001b[0;34m[\u001b[0m\u001b[0;34m'video_title'\u001b[0m\u001b[0;34m]\u001b[0m\u001b[0;34m.\u001b[0m\u001b[0mstr\u001b[0m\u001b[0;34m.\u001b[0m\u001b[0mcontains\u001b[0m\u001b[0;34m(\u001b[0m\u001b[0;34m'Katy Perry'\u001b[0m\u001b[0;34m,\u001b[0m \u001b[0mcase\u001b[0m\u001b[0;34m=\u001b[0m\u001b[0;32mFalse\u001b[0m\u001b[0;34m,\u001b[0m \u001b[0mna\u001b[0m\u001b[0;34m=\u001b[0m\u001b[0;32mFalse\u001b[0m\u001b[0;34m)\u001b[0m\u001b[0;34m]\u001b[0m\u001b[0;34m\u001b[0m\u001b[0;34m\u001b[0m\u001b[0m\n\u001b[0m\u001b[1;32m     27\u001b[0m \u001b[0mtop_katy_perry_videos\u001b[0m \u001b[0;34m=\u001b[0m \u001b[0mkaty_perry_videos\u001b[0m\u001b[0;34m[\u001b[0m\u001b[0;34m'video_title'\u001b[0m\u001b[0;34m]\u001b[0m\u001b[0;34m.\u001b[0m\u001b[0mvalue_counts\u001b[0m\u001b[0;34m(\u001b[0m\u001b[0;34m)\u001b[0m\u001b[0;34m.\u001b[0m\u001b[0mhead\u001b[0m\u001b[0;34m(\u001b[0m\u001b[0;36m5\u001b[0m\u001b[0;34m)\u001b[0m\u001b[0;34m\u001b[0m\u001b[0;34m\u001b[0m\u001b[0m\n\u001b[1;32m     28\u001b[0m \u001b[0mprint\u001b[0m\u001b[0;34m(\u001b[0m\u001b[0;34m\"Q1: Top 5 spam music videos of Katy Perry:\"\u001b[0m\u001b[0;34m)\u001b[0m\u001b[0;34m\u001b[0m\u001b[0;34m\u001b[0m\u001b[0m\n",
            "\u001b[0;32m/usr/local/lib/python3.10/dist-packages/pandas/core/frame.py\u001b[0m in \u001b[0;36m__getitem__\u001b[0;34m(self, key)\u001b[0m\n\u001b[1;32m   4100\u001b[0m             \u001b[0;32mif\u001b[0m \u001b[0mself\u001b[0m\u001b[0;34m.\u001b[0m\u001b[0mcolumns\u001b[0m\u001b[0;34m.\u001b[0m\u001b[0mnlevels\u001b[0m \u001b[0;34m>\u001b[0m \u001b[0;36m1\u001b[0m\u001b[0;34m:\u001b[0m\u001b[0;34m\u001b[0m\u001b[0;34m\u001b[0m\u001b[0m\n\u001b[1;32m   4101\u001b[0m                 \u001b[0;32mreturn\u001b[0m \u001b[0mself\u001b[0m\u001b[0;34m.\u001b[0m\u001b[0m_getitem_multilevel\u001b[0m\u001b[0;34m(\u001b[0m\u001b[0mkey\u001b[0m\u001b[0;34m)\u001b[0m\u001b[0;34m\u001b[0m\u001b[0;34m\u001b[0m\u001b[0m\n\u001b[0;32m-> 4102\u001b[0;31m             \u001b[0mindexer\u001b[0m \u001b[0;34m=\u001b[0m \u001b[0mself\u001b[0m\u001b[0;34m.\u001b[0m\u001b[0mcolumns\u001b[0m\u001b[0;34m.\u001b[0m\u001b[0mget_loc\u001b[0m\u001b[0;34m(\u001b[0m\u001b[0mkey\u001b[0m\u001b[0;34m)\u001b[0m\u001b[0;34m\u001b[0m\u001b[0;34m\u001b[0m\u001b[0m\n\u001b[0m\u001b[1;32m   4103\u001b[0m             \u001b[0;32mif\u001b[0m \u001b[0mis_integer\u001b[0m\u001b[0;34m(\u001b[0m\u001b[0mindexer\u001b[0m\u001b[0;34m)\u001b[0m\u001b[0;34m:\u001b[0m\u001b[0;34m\u001b[0m\u001b[0;34m\u001b[0m\u001b[0m\n\u001b[1;32m   4104\u001b[0m                 \u001b[0mindexer\u001b[0m \u001b[0;34m=\u001b[0m \u001b[0;34m[\u001b[0m\u001b[0mindexer\u001b[0m\u001b[0;34m]\u001b[0m\u001b[0;34m\u001b[0m\u001b[0;34m\u001b[0m\u001b[0m\n",
            "\u001b[0;32m/usr/local/lib/python3.10/dist-packages/pandas/core/indexes/base.py\u001b[0m in \u001b[0;36mget_loc\u001b[0;34m(self, key)\u001b[0m\n\u001b[1;32m   3810\u001b[0m             ):\n\u001b[1;32m   3811\u001b[0m                 \u001b[0;32mraise\u001b[0m \u001b[0mInvalidIndexError\u001b[0m\u001b[0;34m(\u001b[0m\u001b[0mkey\u001b[0m\u001b[0;34m)\u001b[0m\u001b[0;34m\u001b[0m\u001b[0;34m\u001b[0m\u001b[0m\n\u001b[0;32m-> 3812\u001b[0;31m             \u001b[0;32mraise\u001b[0m \u001b[0mKeyError\u001b[0m\u001b[0;34m(\u001b[0m\u001b[0mkey\u001b[0m\u001b[0;34m)\u001b[0m \u001b[0;32mfrom\u001b[0m \u001b[0merr\u001b[0m\u001b[0;34m\u001b[0m\u001b[0;34m\u001b[0m\u001b[0m\n\u001b[0m\u001b[1;32m   3813\u001b[0m         \u001b[0;32mexcept\u001b[0m \u001b[0mTypeError\u001b[0m\u001b[0;34m:\u001b[0m\u001b[0;34m\u001b[0m\u001b[0;34m\u001b[0m\u001b[0m\n\u001b[1;32m   3814\u001b[0m             \u001b[0;31m# If we have a listlike key, _check_indexing_error will raise\u001b[0m\u001b[0;34m\u001b[0m\u001b[0;34m\u001b[0m\u001b[0m\n",
            "\u001b[0;31mKeyError\u001b[0m: 'video_title'"
          ]
        }
      ]
    },
    {
      "source": [
        "import pandas as pd\n",
        "\n",
        "# Combine all YouTube spam datasets\n",
        "files = [\n",
        "    '/content/Youtube01-Psy.csv',\n",
        "    '/content/Youtube02-KatyPerry.csv',\n",
        "    '/content/Youtube03-LMFAO.csv',\n",
        "    '/content/Youtube04-Eminem.csv',\n",
        "    '/content/Youtube05-Shakira.csv'\n",
        "]\n",
        "\n",
        "# Load and concatenate all datasets\n",
        "dfs = []\n",
        "for file in files:\n",
        "    df = pd.read_csv(file)\n",
        "    # Add singer and views columns based on filenames\n",
        "    if 'Psy' in file:\n",
        "        df['singer'] = 'Psy'\n",
        "        df['views'] = 3600000000  # Example views for Psy's video\n",
        "    elif 'KatyPerry' in file:\n",
        "        df['singer'] = 'Katy Perry'\n",
        "        df['views'] = 2900000000  # Example views for Katy Perry\n",
        "    elif 'LMFAO' in file:\n",
        "        df['singer'] = 'LMFAO'\n",
        "        df['views'] = 1500000000  # Example views for LMFAO\n",
        "    elif 'Eminem' in file:\n",
        "        df['singer'] = 'Eminem'\n",
        "        df['views'] = 2000000000  # Example views for Eminem\n",
        "    elif 'Shakira' in file:\n",
        "        df['singer'] = 'Shakira'\n",
        "        df['views'] = 2700000000  # Example views for Shakira\n",
        "    dfs.append(df)\n",
        "\n",
        "# Merge all datasets\n",
        "df = pd.concat(dfs, ignore_index=True)\n",
        "\n",
        "# Ensure required columns exist\n",
        "df['video_id'] = df.index  # Add unique video IDs\n",
        "df['date'] = pd.to_datetime('2023-01-01')  # Add a placeholder date\n",
        "required_columns = ['video_id', 'video_title', 'comment', 'label', 'date', 'singer', 'views']\n",
        "# Check for missing columns and provide feedback to the user\n",
        "missing_columns = [col for col in required_columns if col not in df.columns]\n",
        "if missing_columns:\n",
        "    print(f\"Warning: The following columns are missing from one or more datasets: {missing_columns}\")\n",
        "    print(\"Please ensure all datasets have the required columns: ['video_id', 'video_title', 'comment', 'label', 'date', 'singer', 'views']\")\n",
        "    # Optionally, you can try to fill missing columns with default values\n",
        "    # or raise an error to stop execution\n",
        "    # For example:\n",
        "    # df[missing_columns] = None # Fill missing columns with None\n",
        "    # raise ValueError(f\"Missing columns: {missing_columns}\")\n",
        "# Select only the required columns (if present)\n",
        "df = df[[col for col in required_columns if col in df.columns]] # Only select the columns which are present in the dataframe\n",
        "\n",
        "\n",
        "# Filter spam comments\n",
        "df_spam = df[df['label'] == 1]\n",
        "\n",
        "# Q1: Identify the top 5 spam music videos of Katy Perry\n",
        "katy_perry_videos = df_spam[df_spam['singer'] == 'Katy Perry']\n",
        "top_katy_perry_videos = katy_perry_videos['video_title'].value_counts().head(5)\n",
        "print(\"Q1: Top 5 spam music videos of Katy Perry:\")\n",
        "print(top_katy_perry_videos)\n",
        "\n",
        "# ... (Rest of the code remains the same)"
      ],
      "cell_type": "code",
      "metadata": {
        "colab": {
          "base_uri": "https://localhost:8080/",
          "height": 671
        },
        "id": "ChgvkDFM7zdL",
        "outputId": "d9a295e6-749d-410d-e0de-3336bdb68ddb"
      },
      "execution_count": 4,
      "outputs": [
        {
          "output_type": "stream",
          "name": "stdout",
          "text": [
            "Warning: The following columns are missing from one or more datasets: ['video_title', 'comment', 'label']\n",
            "Please ensure all datasets have the required columns: ['video_id', 'video_title', 'comment', 'label', 'date', 'singer', 'views']\n"
          ]
        },
        {
          "output_type": "error",
          "ename": "KeyError",
          "evalue": "'label'",
          "traceback": [
            "\u001b[0;31m---------------------------------------------------------------------------\u001b[0m",
            "\u001b[0;31mKeyError\u001b[0m                                  Traceback (most recent call last)",
            "\u001b[0;32m/usr/local/lib/python3.10/dist-packages/pandas/core/indexes/base.py\u001b[0m in \u001b[0;36mget_loc\u001b[0;34m(self, key)\u001b[0m\n\u001b[1;32m   3804\u001b[0m         \u001b[0;32mtry\u001b[0m\u001b[0;34m:\u001b[0m\u001b[0;34m\u001b[0m\u001b[0;34m\u001b[0m\u001b[0m\n\u001b[0;32m-> 3805\u001b[0;31m             \u001b[0;32mreturn\u001b[0m \u001b[0mself\u001b[0m\u001b[0;34m.\u001b[0m\u001b[0m_engine\u001b[0m\u001b[0;34m.\u001b[0m\u001b[0mget_loc\u001b[0m\u001b[0;34m(\u001b[0m\u001b[0mcasted_key\u001b[0m\u001b[0;34m)\u001b[0m\u001b[0;34m\u001b[0m\u001b[0;34m\u001b[0m\u001b[0m\n\u001b[0m\u001b[1;32m   3806\u001b[0m         \u001b[0;32mexcept\u001b[0m \u001b[0mKeyError\u001b[0m \u001b[0;32mas\u001b[0m \u001b[0merr\u001b[0m\u001b[0;34m:\u001b[0m\u001b[0;34m\u001b[0m\u001b[0;34m\u001b[0m\u001b[0m\n",
            "\u001b[0;32mindex.pyx\u001b[0m in \u001b[0;36mpandas._libs.index.IndexEngine.get_loc\u001b[0;34m()\u001b[0m\n",
            "\u001b[0;32mindex.pyx\u001b[0m in \u001b[0;36mpandas._libs.index.IndexEngine.get_loc\u001b[0;34m()\u001b[0m\n",
            "\u001b[0;32mpandas/_libs/hashtable_class_helper.pxi\u001b[0m in \u001b[0;36mpandas._libs.hashtable.PyObjectHashTable.get_item\u001b[0;34m()\u001b[0m\n",
            "\u001b[0;32mpandas/_libs/hashtable_class_helper.pxi\u001b[0m in \u001b[0;36mpandas._libs.hashtable.PyObjectHashTable.get_item\u001b[0;34m()\u001b[0m\n",
            "\u001b[0;31mKeyError\u001b[0m: 'label'",
            "\nThe above exception was the direct cause of the following exception:\n",
            "\u001b[0;31mKeyError\u001b[0m                                  Traceback (most recent call last)",
            "\u001b[0;32m<ipython-input-4-197c26ac9271>\u001b[0m in \u001b[0;36m<cell line: 56>\u001b[0;34m()\u001b[0m\n\u001b[1;32m     54\u001b[0m \u001b[0;34m\u001b[0m\u001b[0m\n\u001b[1;32m     55\u001b[0m \u001b[0;31m# Filter spam comments\u001b[0m\u001b[0;34m\u001b[0m\u001b[0;34m\u001b[0m\u001b[0m\n\u001b[0;32m---> 56\u001b[0;31m \u001b[0mdf_spam\u001b[0m \u001b[0;34m=\u001b[0m \u001b[0mdf\u001b[0m\u001b[0;34m[\u001b[0m\u001b[0mdf\u001b[0m\u001b[0;34m[\u001b[0m\u001b[0;34m'label'\u001b[0m\u001b[0;34m]\u001b[0m \u001b[0;34m==\u001b[0m \u001b[0;36m1\u001b[0m\u001b[0;34m]\u001b[0m\u001b[0;34m\u001b[0m\u001b[0;34m\u001b[0m\u001b[0m\n\u001b[0m\u001b[1;32m     57\u001b[0m \u001b[0;34m\u001b[0m\u001b[0m\n\u001b[1;32m     58\u001b[0m \u001b[0;31m# Q1: Identify the top 5 spam music videos of Katy Perry\u001b[0m\u001b[0;34m\u001b[0m\u001b[0;34m\u001b[0m\u001b[0m\n",
            "\u001b[0;32m/usr/local/lib/python3.10/dist-packages/pandas/core/frame.py\u001b[0m in \u001b[0;36m__getitem__\u001b[0;34m(self, key)\u001b[0m\n\u001b[1;32m   4100\u001b[0m             \u001b[0;32mif\u001b[0m \u001b[0mself\u001b[0m\u001b[0;34m.\u001b[0m\u001b[0mcolumns\u001b[0m\u001b[0;34m.\u001b[0m\u001b[0mnlevels\u001b[0m \u001b[0;34m>\u001b[0m \u001b[0;36m1\u001b[0m\u001b[0;34m:\u001b[0m\u001b[0;34m\u001b[0m\u001b[0;34m\u001b[0m\u001b[0m\n\u001b[1;32m   4101\u001b[0m                 \u001b[0;32mreturn\u001b[0m \u001b[0mself\u001b[0m\u001b[0;34m.\u001b[0m\u001b[0m_getitem_multilevel\u001b[0m\u001b[0;34m(\u001b[0m\u001b[0mkey\u001b[0m\u001b[0;34m)\u001b[0m\u001b[0;34m\u001b[0m\u001b[0;34m\u001b[0m\u001b[0m\n\u001b[0;32m-> 4102\u001b[0;31m             \u001b[0mindexer\u001b[0m \u001b[0;34m=\u001b[0m \u001b[0mself\u001b[0m\u001b[0;34m.\u001b[0m\u001b[0mcolumns\u001b[0m\u001b[0;34m.\u001b[0m\u001b[0mget_loc\u001b[0m\u001b[0;34m(\u001b[0m\u001b[0mkey\u001b[0m\u001b[0;34m)\u001b[0m\u001b[0;34m\u001b[0m\u001b[0;34m\u001b[0m\u001b[0m\n\u001b[0m\u001b[1;32m   4103\u001b[0m             \u001b[0;32mif\u001b[0m \u001b[0mis_integer\u001b[0m\u001b[0;34m(\u001b[0m\u001b[0mindexer\u001b[0m\u001b[0;34m)\u001b[0m\u001b[0;34m:\u001b[0m\u001b[0;34m\u001b[0m\u001b[0;34m\u001b[0m\u001b[0m\n\u001b[1;32m   4104\u001b[0m                 \u001b[0mindexer\u001b[0m \u001b[0;34m=\u001b[0m \u001b[0;34m[\u001b[0m\u001b[0mindexer\u001b[0m\u001b[0;34m]\u001b[0m\u001b[0;34m\u001b[0m\u001b[0;34m\u001b[0m\u001b[0m\n",
            "\u001b[0;32m/usr/local/lib/python3.10/dist-packages/pandas/core/indexes/base.py\u001b[0m in \u001b[0;36mget_loc\u001b[0;34m(self, key)\u001b[0m\n\u001b[1;32m   3810\u001b[0m             ):\n\u001b[1;32m   3811\u001b[0m                 \u001b[0;32mraise\u001b[0m \u001b[0mInvalidIndexError\u001b[0m\u001b[0;34m(\u001b[0m\u001b[0mkey\u001b[0m\u001b[0;34m)\u001b[0m\u001b[0;34m\u001b[0m\u001b[0;34m\u001b[0m\u001b[0m\n\u001b[0;32m-> 3812\u001b[0;31m             \u001b[0;32mraise\u001b[0m \u001b[0mKeyError\u001b[0m\u001b[0;34m(\u001b[0m\u001b[0mkey\u001b[0m\u001b[0;34m)\u001b[0m \u001b[0;32mfrom\u001b[0m \u001b[0merr\u001b[0m\u001b[0;34m\u001b[0m\u001b[0;34m\u001b[0m\u001b[0m\n\u001b[0m\u001b[1;32m   3813\u001b[0m         \u001b[0;32mexcept\u001b[0m \u001b[0mTypeError\u001b[0m\u001b[0;34m:\u001b[0m\u001b[0;34m\u001b[0m\u001b[0;34m\u001b[0m\u001b[0m\n\u001b[1;32m   3814\u001b[0m             \u001b[0;31m# If we have a listlike key, _check_indexing_error will raise\u001b[0m\u001b[0;34m\u001b[0m\u001b[0;34m\u001b[0m\u001b[0m\n",
            "\u001b[0;31mKeyError\u001b[0m: 'label'"
          ]
        }
      ]
    },
    {
      "cell_type": "code",
      "source": [
        "import pandas as pd\n",
        "\n",
        "# Load all datasets into a single DataFrame\n",
        "df1 = pd.read_csv('/content/Youtube01-Psy.csv')\n",
        "df2 = pd.read_csv('/content/Youtube02-KatyPerry.csv')\n",
        "df3 = pd.read_csv('/content/Youtube03-LMFAO.csv')\n",
        "df4 = pd.read_csv('/content/Youtube04-Eminem.csv')\n",
        "df5 = pd.read_csv('/content/Youtube05-Shakira.csv')\n",
        "\n",
        "# Concatenate all DataFrames into one\n",
        "df = pd.concat([df1, df2, df3, df4, df5], ignore_index=True)\n",
        "\n",
        "# Ensure relevant columns exist\n",
        "required_columns = ['video_id', 'video_title', 'comment', 'CLASS', 'date', 'singer', 'views']  # Replace 'label' with 'CLASS'\n",
        "\n",
        "# Rename the 'CLASS' column to 'label' for consistency with your code\n",
        "df = df.rename(columns={'CLASS': 'label'})\n",
        "\n",
        "# Filter spam comments - THIS LINE WAS MOVED\n",
        "df_spam = df[df['label'] == 'spam']\n",
        "\n",
        "# ... (rest of your analysis code)\n",
        "\n",
        "# Q1: Identify the top 5 spam music videos of Katy Perry\n",
        "katy_perry_videos = df_spam[df_spam['video_title'].str.contains('Katy Perry', case=False, na=False)]\n",
        "top_katy_perry_videos = katy_perry_videos['video_title'].value_counts().head(5)\n",
        "print(\"Q1: Top 5 spam music videos of Katy Perry:\")\n",
        "print(top_katy_perry_videos)\n",
        "\n",
        "# Q2: Name the music singer with the highest spam content on YouTube\n",
        "singer_spam_counts = df_spam['singer'].value_counts()\n",
        "top_spam_singer = singer_spam_counts.idxmax()\n",
        "top_spam_count = singer_spam_counts.max()\n",
        "print(f\"Q2: The singer with the highest spam content is {top_spam_singer} with {top_spam_count} spam comments.\")\n",
        "\n",
        "# Q3: Total number of music videos with max and min spam content\n",
        "spam_video_counts = df_spam['video_id'].value_counts()\n",
        "max_spam_video_id = spam_video_counts.idxmax()\n",
        "min_spam_video_id = spam_video_counts.idxmin()\n",
        "print(f\"Q3: Video with max spam content: {max_spam_video_id} (Count: {spam_video_counts[max_spam_video_id]})\")\n",
        "print(f\"Q3: Video with min spam content: {min_spam_video_id} (Count: {spam_video_counts[min_spam_video_id]})\")\n",
        "\n",
        "# Q4: Name the date when most spam content was produced and by which singer\n",
        "spam_by_date = df_spam.groupby('date').size()\n",
        "most_spam_date = spam_by_date.idxmax()\n",
        "most_spam_date_count = spam_by_date.max()\n",
        "singer_on_most_spam_date = (\n",
        "    df_spam[df_spam['date'] == most_spam_date]['singer']\n",
        "    .value_counts()\n",
        "    .idxmax()\n",
        ")\n",
        "    .idxmax()\n",
        "print(f\"Q4: The date with most spam content is {most_spam_date} with {most_spam_date_count} spam comments.\")\n",
        "print(f\"Q4:\")\n",
        ")\n",
        "   .idxmax()\n",
        "print(f\"Q4: The date with most spam content is {most_spam_date} with {most_spam_date_count} spam comments.\")\n",
        "print(f\"Q4:\")"
      ],
      "metadata": {
        "colab": {
          "base_uri": "https://localhost:8080/",
          "height": 106
        },
        "id": "NClJlYmC9Lgo",
        "outputId": "8d05f500-b2f6-4af6-cba9-cbb3f543dc86"
      },
      "execution_count": 13,
      "outputs": [
        {
          "output_type": "error",
          "ename": "IndentationError",
          "evalue": "unexpected indent (<ipython-input-13-31d9b0e8c926>, line 52)",
          "traceback": [
            "\u001b[0;36m  File \u001b[0;32m\"<ipython-input-13-31d9b0e8c926>\"\u001b[0;36m, line \u001b[0;32m52\u001b[0m\n\u001b[0;31m    .idxmax()\u001b[0m\n\u001b[0m    ^\u001b[0m\n\u001b[0;31mIndentationError\u001b[0m\u001b[0;31m:\u001b[0m unexpected indent\n"
          ]
        }
      ]
    },
    {
      "cell_type": "code",
      "source": [
        "import pandas as pd\n",
        "\n",
        "# Load all datasets into a single DataFrame\n",
        "df1 = pd.read_csv('/content/Youtube01-Psy.csv')\n",
        "df2 = pd.read_csv('/content/Youtube02-KatyPerry.csv')\n",
        "df3 = pd.read_csv('/content/Youtube03-LMFAO.csv')\n",
        "df4 = pd.read_csv('/content/Youtube04-Eminem.csv')\n",
        "df5 = pd.read_csv('/content/Youtube05-Shakira.csv')\n",
        "\n",
        "# Concatenate all DataFrames into one\n",
        "df = pd.concat([df1, df2, df3, df4, df5], ignore_index=True)\n",
        "\n",
        "# Ensure relevant columns exist\n",
        "required_columns = ['video_id', 'video_title', 'comment', 'CLASS', 'date', 'singer', 'views']  # Replace 'label' with 'CLASS'\n",
        "\n",
        "# Rename the 'CLASS' column to 'label' for consistency with your code\n",
        "df = df.rename(columns={'CLASS': 'label'})\n",
        "\n",
        "# Filter spam comments - CORRECTED FILTERING\n",
        "df_spam = df[df['label'] == 1]  # Assuming 1 represents spam\n",
        "\n",
        "# ... (rest of your analysis code)\n",
        "\n",
        "# Q1: Identify the top 5 spam music videos of Katy Perry\n",
        "katy_perry_videos = df_spam[df_spam['video_title'].str.contains('Katy Perry', case=False, na=False)]\n",
        "top_katy_perry_videos = katy_perry_videos['video_title'].value_counts().head(5)\n",
        "print(\"Q1: Top 5 spam music videos of Katy Perry:\")\n",
        "print(top_katy_perry_videos)\n",
        "\n",
        "# Q2: Name the music singer with the highest spam content on YouTube\n",
        "singer_spam_counts = df_spam['singer'].value_counts()\n",
        "top_spam_singer = singer_spam_counts.idxmax()\n",
        "top_spam_count = singer_spam_counts.max()\n",
        "print(f\"Q2: The singer with the highest spam content is {top_spam_singer} with {top_spam_count} spam comments.\")\n",
        "\n",
        "# Q3: Total number of music videos with max and min spam content\n",
        "spam_video_counts = df_spam['video_id'].value_counts()\n",
        "max_spam_video_id = spam_video_counts.idxmax()\n",
        "min_spam_video_id = spam_video_counts.idxmin()\n",
        "print(f\"Q3: Video with max spam content: {max_spam_video_id} (Count: {spam_video_counts[max_spam_video_id]})\")\n",
        "print(f\"Q3: Video with min spam content: {min_spam_video_id} (Count: {spam_video_counts[min_spam_video_id]})\")\n",
        "\n",
        "# Q4: Name the date when most spam content was produced and by which singer\n",
        "spam_by_date = df_spam.groupby('date').size()\n",
        "most_spam_date = spam_by_date.idxmax()\n",
        "most_spam_date_count = spam_by_date.max()\n",
        "singer_on_most_spam_date = (\n",
        "    df_spam[df_spam['date'] == most_spam_date]['singer']\n",
        "    .value_counts()\n",
        "    .idxmax() # FIXED INDENTATION\n",
        ")\n",
        "print(f\"Q4: The date with most spam content is {most_spam_date}\")"
      ],
      "metadata": {
        "colab": {
          "base_uri": "https://localhost:8080/",
          "height": 616
        },
        "id": "kfE0m7fz9pQO",
        "outputId": "74223b8c-efec-40b6-a767-63c789d18739"
      },
      "execution_count": 15,
      "outputs": [
        {
          "output_type": "error",
          "ename": "KeyError",
          "evalue": "'video_title'",
          "traceback": [
            "\u001b[0;31m---------------------------------------------------------------------------\u001b[0m",
            "\u001b[0;31mKeyError\u001b[0m                                  Traceback (most recent call last)",
            "\u001b[0;32m/usr/local/lib/python3.10/dist-packages/pandas/core/indexes/base.py\u001b[0m in \u001b[0;36mget_loc\u001b[0;34m(self, key)\u001b[0m\n\u001b[1;32m   3804\u001b[0m         \u001b[0;32mtry\u001b[0m\u001b[0;34m:\u001b[0m\u001b[0;34m\u001b[0m\u001b[0;34m\u001b[0m\u001b[0m\n\u001b[0;32m-> 3805\u001b[0;31m             \u001b[0;32mreturn\u001b[0m \u001b[0mself\u001b[0m\u001b[0;34m.\u001b[0m\u001b[0m_engine\u001b[0m\u001b[0;34m.\u001b[0m\u001b[0mget_loc\u001b[0m\u001b[0;34m(\u001b[0m\u001b[0mcasted_key\u001b[0m\u001b[0;34m)\u001b[0m\u001b[0;34m\u001b[0m\u001b[0;34m\u001b[0m\u001b[0m\n\u001b[0m\u001b[1;32m   3806\u001b[0m         \u001b[0;32mexcept\u001b[0m \u001b[0mKeyError\u001b[0m \u001b[0;32mas\u001b[0m \u001b[0merr\u001b[0m\u001b[0;34m:\u001b[0m\u001b[0;34m\u001b[0m\u001b[0;34m\u001b[0m\u001b[0m\n",
            "\u001b[0;32mindex.pyx\u001b[0m in \u001b[0;36mpandas._libs.index.IndexEngine.get_loc\u001b[0;34m()\u001b[0m\n",
            "\u001b[0;32mindex.pyx\u001b[0m in \u001b[0;36mpandas._libs.index.IndexEngine.get_loc\u001b[0;34m()\u001b[0m\n",
            "\u001b[0;32mpandas/_libs/hashtable_class_helper.pxi\u001b[0m in \u001b[0;36mpandas._libs.hashtable.PyObjectHashTable.get_item\u001b[0;34m()\u001b[0m\n",
            "\u001b[0;32mpandas/_libs/hashtable_class_helper.pxi\u001b[0m in \u001b[0;36mpandas._libs.hashtable.PyObjectHashTable.get_item\u001b[0;34m()\u001b[0m\n",
            "\u001b[0;31mKeyError\u001b[0m: 'video_title'",
            "\nThe above exception was the direct cause of the following exception:\n",
            "\u001b[0;31mKeyError\u001b[0m                                  Traceback (most recent call last)",
            "\u001b[0;32m<ipython-input-15-f21b5e7b7cfc>\u001b[0m in \u001b[0;36m<cell line: 25>\u001b[0;34m()\u001b[0m\n\u001b[1;32m     23\u001b[0m \u001b[0;34m\u001b[0m\u001b[0m\n\u001b[1;32m     24\u001b[0m \u001b[0;31m# Q1: Identify the top 5 spam music videos of Katy Perry\u001b[0m\u001b[0;34m\u001b[0m\u001b[0;34m\u001b[0m\u001b[0m\n\u001b[0;32m---> 25\u001b[0;31m \u001b[0mkaty_perry_videos\u001b[0m \u001b[0;34m=\u001b[0m \u001b[0mdf_spam\u001b[0m\u001b[0;34m[\u001b[0m\u001b[0mdf_spam\u001b[0m\u001b[0;34m[\u001b[0m\u001b[0;34m'video_title'\u001b[0m\u001b[0;34m]\u001b[0m\u001b[0;34m.\u001b[0m\u001b[0mstr\u001b[0m\u001b[0;34m.\u001b[0m\u001b[0mcontains\u001b[0m\u001b[0;34m(\u001b[0m\u001b[0;34m'Katy Perry'\u001b[0m\u001b[0;34m,\u001b[0m \u001b[0mcase\u001b[0m\u001b[0;34m=\u001b[0m\u001b[0;32mFalse\u001b[0m\u001b[0;34m,\u001b[0m \u001b[0mna\u001b[0m\u001b[0;34m=\u001b[0m\u001b[0;32mFalse\u001b[0m\u001b[0;34m)\u001b[0m\u001b[0;34m]\u001b[0m\u001b[0;34m\u001b[0m\u001b[0;34m\u001b[0m\u001b[0m\n\u001b[0m\u001b[1;32m     26\u001b[0m \u001b[0mtop_katy_perry_videos\u001b[0m \u001b[0;34m=\u001b[0m \u001b[0mkaty_perry_videos\u001b[0m\u001b[0;34m[\u001b[0m\u001b[0;34m'video_title'\u001b[0m\u001b[0;34m]\u001b[0m\u001b[0;34m.\u001b[0m\u001b[0mvalue_counts\u001b[0m\u001b[0;34m(\u001b[0m\u001b[0;34m)\u001b[0m\u001b[0;34m.\u001b[0m\u001b[0mhead\u001b[0m\u001b[0;34m(\u001b[0m\u001b[0;36m5\u001b[0m\u001b[0;34m)\u001b[0m\u001b[0;34m\u001b[0m\u001b[0;34m\u001b[0m\u001b[0m\n\u001b[1;32m     27\u001b[0m \u001b[0mprint\u001b[0m\u001b[0;34m(\u001b[0m\u001b[0;34m\"Q1: Top 5 spam music videos of Katy Perry:\"\u001b[0m\u001b[0;34m)\u001b[0m\u001b[0;34m\u001b[0m\u001b[0;34m\u001b[0m\u001b[0m\n",
            "\u001b[0;32m/usr/local/lib/python3.10/dist-packages/pandas/core/frame.py\u001b[0m in \u001b[0;36m__getitem__\u001b[0;34m(self, key)\u001b[0m\n\u001b[1;32m   4100\u001b[0m             \u001b[0;32mif\u001b[0m \u001b[0mself\u001b[0m\u001b[0;34m.\u001b[0m\u001b[0mcolumns\u001b[0m\u001b[0;34m.\u001b[0m\u001b[0mnlevels\u001b[0m \u001b[0;34m>\u001b[0m \u001b[0;36m1\u001b[0m\u001b[0;34m:\u001b[0m\u001b[0;34m\u001b[0m\u001b[0;34m\u001b[0m\u001b[0m\n\u001b[1;32m   4101\u001b[0m                 \u001b[0;32mreturn\u001b[0m \u001b[0mself\u001b[0m\u001b[0;34m.\u001b[0m\u001b[0m_getitem_multilevel\u001b[0m\u001b[0;34m(\u001b[0m\u001b[0mkey\u001b[0m\u001b[0;34m)\u001b[0m\u001b[0;34m\u001b[0m\u001b[0;34m\u001b[0m\u001b[0m\n\u001b[0;32m-> 4102\u001b[0;31m             \u001b[0mindexer\u001b[0m \u001b[0;34m=\u001b[0m \u001b[0mself\u001b[0m\u001b[0;34m.\u001b[0m\u001b[0mcolumns\u001b[0m\u001b[0;34m.\u001b[0m\u001b[0mget_loc\u001b[0m\u001b[0;34m(\u001b[0m\u001b[0mkey\u001b[0m\u001b[0;34m)\u001b[0m\u001b[0;34m\u001b[0m\u001b[0;34m\u001b[0m\u001b[0m\n\u001b[0m\u001b[1;32m   4103\u001b[0m             \u001b[0;32mif\u001b[0m \u001b[0mis_integer\u001b[0m\u001b[0;34m(\u001b[0m\u001b[0mindexer\u001b[0m\u001b[0;34m)\u001b[0m\u001b[0;34m:\u001b[0m\u001b[0;34m\u001b[0m\u001b[0;34m\u001b[0m\u001b[0m\n\u001b[1;32m   4104\u001b[0m                 \u001b[0mindexer\u001b[0m \u001b[0;34m=\u001b[0m \u001b[0;34m[\u001b[0m\u001b[0mindexer\u001b[0m\u001b[0;34m]\u001b[0m\u001b[0;34m\u001b[0m\u001b[0;34m\u001b[0m\u001b[0m\n",
            "\u001b[0;32m/usr/local/lib/python3.10/dist-packages/pandas/core/indexes/base.py\u001b[0m in \u001b[0;36mget_loc\u001b[0;34m(self, key)\u001b[0m\n\u001b[1;32m   3810\u001b[0m             ):\n\u001b[1;32m   3811\u001b[0m                 \u001b[0;32mraise\u001b[0m \u001b[0mInvalidIndexError\u001b[0m\u001b[0;34m(\u001b[0m\u001b[0mkey\u001b[0m\u001b[0;34m)\u001b[0m\u001b[0;34m\u001b[0m\u001b[0;34m\u001b[0m\u001b[0m\n\u001b[0;32m-> 3812\u001b[0;31m             \u001b[0;32mraise\u001b[0m \u001b[0mKeyError\u001b[0m\u001b[0;34m(\u001b[0m\u001b[0mkey\u001b[0m\u001b[0;34m)\u001b[0m \u001b[0;32mfrom\u001b[0m \u001b[0merr\u001b[0m\u001b[0;34m\u001b[0m\u001b[0;34m\u001b[0m\u001b[0m\n\u001b[0m\u001b[1;32m   3813\u001b[0m         \u001b[0;32mexcept\u001b[0m \u001b[0mTypeError\u001b[0m\u001b[0;34m:\u001b[0m\u001b[0;34m\u001b[0m\u001b[0;34m\u001b[0m\u001b[0m\n\u001b[1;32m   3814\u001b[0m             \u001b[0;31m# If we have a listlike key, _check_indexing_error will raise\u001b[0m\u001b[0;34m\u001b[0m\u001b[0;34m\u001b[0m\u001b[0m\n",
            "\u001b[0;31mKeyError\u001b[0m: 'video_title'"
          ]
        }
      ]
    },
    {
      "cell_type": "code",
      "source": [
        "import pandas as pd\n",
        "\n",
        "# Load datasets\n",
        "df1 = pd.read_csv('/content/Youtube01-Psy.csv')\n",
        "df2 = pd.read_csv('/content/Youtube02-KatyPerry.csv')\n",
        "df3 = pd.read_csv('/content/Youtube03-LMFAO.csv')\n",
        "df4 = pd.read_csv('/content/Youtube04-Eminem.csv')\n",
        "df5 = pd.read_csv('/content/Youtube05-Shakira.csv')\n",
        "\n",
        "# Add singer information manually\n",
        "df1['singer'] = 'Psy'\n",
        "df2['singer'] = 'Katy Perry'\n",
        "df3['singer'] = 'LMFAO'\n",
        "df4['singer'] = 'Eminem'\n",
        "df5['singer'] = 'Shakira'\n",
        "\n",
        "# Concatenate all DataFrames\n",
        "df = pd.concat([df1, df2, df3, df4, df5], ignore_index=True)\n",
        "\n",
        "# Rename columns to match expected names\n",
        "df = df.rename(columns={\n",
        "    'CONTENT': 'comment',\n",
        "    'CLASS': 'label'\n",
        "})\n",
        "\n",
        "# Add missing columns if necessary\n",
        "if 'video_id' not in df.columns:\n",
        "    df['video_id'] = range(len(df))  # Unique video IDs\n",
        "if 'video_title' not in df.columns:\n",
        "    df['video_title'] = 'Unknown Title'\n",
        "if 'date' not in df.columns:\n",
        "    df['date'] = pd.to_datetime('2023-01-01')  # Placeholder date\n",
        "\n",
        "# Filter for spam comments\n",
        "df_spam = df[df['label'] == 1]\n",
        "\n",
        "# Q1: Top 5 spam music videos of Katy Perry\n",
        "katy_perry_videos = df_spam[df_spam['singer'] == 'Katy Perry']\n",
        "top_katy_perry_videos = katy_perry_videos['video_title'].value_counts().head(5)\n",
        "print(\"Q1: Top 5 spam music videos of Katy Perry:\")\n",
        "print(top_katy_perry_videos)\n",
        "\n",
        "# Q2: Singer with the highest spam content\n",
        "singer_spam_counts = df_spam['singer'].value_counts()\n",
        "top_spam_singer = singer_spam_counts.idxmax()\n",
        "top_spam_count = singer_spam_counts.max()\n",
        "print(f\"Q2: The singer with the highest spam content is {top_spam_singer} with {top_spam_count} spam comments.\")\n",
        "\n",
        "# Q3: Videos with max and min spam content\n",
        "spam_video_counts = df_spam['video_id'].value_counts()\n",
        "max_spam_video_id = spam_video_counts.idxmax()\n",
        "min_spam_video_id = spam_video_counts.idxmin()\n",
        "print(f\"Q3: Video with max spam content: {max_spam_video_id} (Count: {spam_video_counts[max_spam_video_id]})\")\n",
        "print(f\"Q3: Video with min spam content: {min_spam_video_id} (Count: {spam_video_counts[min_spam_video_id]})\")\n",
        "\n",
        "# Q4: Date with most spam content and associated singer\n",
        "spam_by_date = df_spam.groupby('date').size()\n",
        "most_spam_date = spam_by_date.idxmax()\n",
        "most_spam_date_count = spam_by_date.max()\n",
        "singer_on_most_spam_date = (\n",
        "    df_spam[df_spam['date'] == most_spam_date]['singer']\n",
        "    .value_counts()\n",
        "    .idxmax()\n",
        ")\n",
        "print(f\"Q4: The date with most spam content is {most_spam_date} with {most_spam_date_count} spam comments.\")\n",
        "print(f\"Q4: The singer with the most spam on this date is {singer_on_most_spam_date}.\")\n"
      ],
      "metadata": {
        "colab": {
          "base_uri": "https://localhost:8080/"
        },
        "id": "hPmoQ1DV-waJ",
        "outputId": "2521df34-a174-4fb5-edc0-f82bb696759f"
      },
      "execution_count": 17,
      "outputs": [
        {
          "output_type": "stream",
          "name": "stdout",
          "text": [
            "Q1: Top 5 spam music videos of Katy Perry:\n",
            "video_title\n",
            "Unknown Title    175\n",
            "Name: count, dtype: int64\n",
            "Q2: The singer with the highest spam content is Eminem with 245 spam comments.\n",
            "Q3: Video with max spam content: 0 (Count: 1)\n",
            "Q3: Video with min spam content: 0 (Count: 1)\n",
            "Q4: The date with most spam content is 2023-01-01 00:00:00 with 1005 spam comments.\n",
            "Q4: The singer with the most spam on this date is Eminem.\n"
          ]
        }
      ]
    }
  ]
}