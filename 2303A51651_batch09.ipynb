{
  "nbformat": 4,
  "nbformat_minor": 0,
  "metadata": {
    "colab": {
      "provenance": [],
      "authorship_tag": "ABX9TyNVewesjoXL+lkWDv4nEGss",
      "include_colab_link": true
    },
    "kernelspec": {
      "name": "python3",
      "display_name": "Python 3"
    },
    "language_info": {
      "name": "python"
    }
  },
  "cells": [
    {
      "cell_type": "markdown",
      "metadata": {
        "id": "view-in-github",
        "colab_type": "text"
      },
      "source": [
        "<a href=\"https://colab.research.google.com/github/suramshivamani/AIML-2025/blob/main/2303A51651_batch09.ipynb\" target=\"_parent\"><img src=\"https://colab.research.google.com/assets/colab-badge.svg\" alt=\"Open In Colab\"/></a>"
      ]
    },
    {
      "cell_type": "markdown",
      "source": [],
      "metadata": {
        "id": "MabJNrE65OhV"
      }
    },
    {
      "cell_type": "code",
      "execution_count": 27,
      "metadata": {
        "colab": {
          "base_uri": "https://localhost:8080/"
        },
        "id": "wVgVJTN7y4yG",
        "outputId": "f2974d28-b41e-4627-e63a-499247a22164"
      },
      "outputs": [
        {
          "output_type": "stream",
          "name": "stdout",
          "text": [
            "Object `singer` not found.\n"
          ]
        }
      ],
      "source": [
        "#Prediction of You Tube Spams in Music content\n",
        "\n",
        "#Q1.Identify the top 5 spam music videos of KatyPerry?\n",
        "\n",
        "#Q2.Name the music singer with the highest spam content on YoouTube? I\n",
        "\n",
        "#Q3. Identify the total number of Music Video with max and min spam content\n",
        "\n",
        "#4.YoutColl min spam content? Q4.Name the date when most spam content was produced\n",
        "\n",
        "and by which singer?\n",
        "\n",
        "#Q5.Name the singer and song most watched in Yout Tube?"
      ]
    },
    {
      "cell_type": "code",
      "source": [
        "import pandas as pd\n",
        "\n",
        "\n",
        "df1 = pd.read_csv('/content/Youtube01-Psy.csv')\n",
        "df2 = pd.read_csv('/content/Youtube02-KatyPerry.csv')\n",
        "df3 = pd.read_csv('/content/Youtube03-LMFAO.csv')\n",
        "df4 = pd.read_csv('/content/Youtube04-Eminem.csv')\n",
        "df5 = pd.read_csv('/content/Youtube05-Shakira.csv')\n",
        "\n",
        "\n",
        "df1['singer'] = 'Psy'\n",
        "df2['singer'] = 'Katy Perry'\n",
        "df3['singer'] = 'LMFAO'\n",
        "df4['singer'] = 'Eminem'\n",
        "df5['singer'] = 'Shakira'\n",
        "\n",
        "\n",
        "df = pd.concat([df1, df2, df3, df4, df5], ignore_index=True)\n",
        "\n",
        "\n",
        "df = df.rename(columns={'CONTENT': 'comment', 'CLASS': 'label'})\n",
        "\n",
        "if 'video_id' not in df.columns:\n",
        "    df['video_id'] = range(len(df))\n",
        "if 'video_title' not in df.columns:\n",
        "    df['video_title'] = 'Unknown Title'\n",
        "if 'date' not in df.columns:\n",
        "    df['date'] = pd.to_datetime('2023-01-01')\n",
        "\n",
        "\n",
        "df_spam = df[df['label'] == 1]\n",
        "katy_perry_videos = df_spam[df_spam['singer'] == 'Katy Perry']\n",
        "top_katy_perry_videos = katy_perry_videos['video_title'].value_counts().head(5)\n",
        "print(\"Q1: Top 5 spam music videos of Katy Perry:\")\n",
        "print(top_katy_perry_videos)\n",
        "\n",
        "\n",
        "singer_spam_counts = df_spam['singer'].value_counts()\n",
        "top_spam_singer = singer_spam_counts.idxmax()\n",
        "top_spam_count = singer_spam_counts.max()\n",
        "print(f\"Q2: The singer with the highest spam content is {top_spam_singer} with {top_spam_count} spam comments.\")\n",
        "\n",
        "\n",
        "spam_video_counts = df_spam['video_id'].value_counts()\n",
        "max_spam_video_id = spam_video_counts.idxmax()\n",
        "min_spam_video_id = spam_video_counts.idxmin()\n",
        "print(f\"Q3: Video with max spam content: {max_spam_video_id} (Count: {spam_video_counts[max_spam_video_id]})\")\n",
        "print(f\"Q3: Video with min spam content: {min_spam_video_id} (Count: {spam_video_counts[min_spam_video_id]})\")\n",
        "\n",
        "\n",
        "spam_by_date = df_spam.groupby('date').size()\n",
        "most_spam_date = spam_by_date.idxmax()\n",
        "most_spam_date_count = spam_by_date.max()\n",
        "singer_on_most_spam_date = (\n",
        "    df_spam[df_spam['date'] == most_spam_date]['singer']\n",
        "    .value_counts()\n",
        "    .idxmax()\n",
        ")\n",
        "print(f\"Q4: The date with most spam content is {most_spam_date} with {most_spam_date_count} spam comments.\")\n",
        "print(f\"Q4: The singer with the most spam on this date is {singer_on_most_spam_date}.\")\n",
        "\n",
        "\n",
        "most_watched_video = df.groupby(['singer', 'video_title']).size().idxmax()\n",
        "most_watched_count = df.groupby(['singer', 'video_title']).size().max()\n",
        "print(f\"Q5: The most watched video on YouTube is '{most_watched_video[1]}' by {most_watched_video[0]} with {most_watched_count} views.\")\n"
      ],
      "metadata": {
        "colab": {
          "base_uri": "https://localhost:8080/"
        },
        "id": "ROKexr1xEhxt",
        "outputId": "6befa968-dc57-411d-9193-f31387d6416e"
      },
      "execution_count": 30,
      "outputs": [
        {
          "output_type": "stream",
          "name": "stdout",
          "text": [
            "Q1: Top 5 spam music videos of Katy Perry:\n",
            "video_title\n",
            "Unknown Title    175\n",
            "Name: count, dtype: int64\n",
            "Q2: The singer with the highest spam content is Eminem with 245 spam comments.\n",
            "Q3: Video with max spam content: 0 (Count: 1)\n",
            "Q3: Video with min spam content: 0 (Count: 1)\n",
            "Q4: The date with most spam content is 2023-01-01 00:00:00 with 1005 spam comments.\n",
            "Q4: The singer with the most spam on this date is Eminem.\n",
            "Q5: The most watched video on YouTube is 'Unknown Title' by Eminem with 448 views.\n"
          ]
        }
      ]
    }
  ]
}