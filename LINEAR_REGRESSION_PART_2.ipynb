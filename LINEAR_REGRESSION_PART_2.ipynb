{
  "nbformat": 4,
  "nbformat_minor": 0,
  "metadata": {
    "colab": {
      "provenance": [],
      "authorship_tag": "ABX9TyOlg18hnowB4hNGNHwhTbtX",
      "include_colab_link": true
    },
    "kernelspec": {
      "name": "python3",
      "display_name": "Python 3"
    },
    "language_info": {
      "name": "python"
    }
  },
  "cells": [
    {
      "cell_type": "markdown",
      "metadata": {
        "id": "view-in-github",
        "colab_type": "text"
      },
      "source": [
        "<a href=\"https://colab.research.google.com/github/suramshivamani/AIML-2025/blob/main/LINEAR_REGRESSION_PART_2.ipynb\" target=\"_parent\"><img src=\"https://colab.research.google.com/assets/colab-badge.svg\" alt=\"Open In Colab\"/></a>"
      ]
    },
    {
      "cell_type": "code",
      "source": [],
      "metadata": {
        "id": "NNRZDsI7zNdX"
      },
      "execution_count": null,
      "outputs": []
    },
    {
      "cell_type": "code",
      "source": [
        "import numpy as np\n",
        "data = np.loadtxt(\"https://files.codingninjas.in/data-6984.csv\", delimiter = \",\")\n",
        "X = data[:, 0]\n",
        "Y = data[:, 1]"
      ],
      "metadata": {
        "id": "gWiNwXL6zPtR"
      },
      "execution_count": 2,
      "outputs": []
    },
    {
      "cell_type": "code",
      "source": [
        "X.shape"
      ],
      "metadata": {
        "colab": {
          "base_uri": "https://localhost:8080/"
        },
        "id": "86KD0XkCzcZh",
        "outputId": "a6d527f0-7828-4d06-bb81-0ca6da268fb0"
      },
      "execution_count": 4,
      "outputs": [
        {
          "output_type": "execute_result",
          "data": {
            "text/plain": [
              "(100,)"
            ]
          },
          "metadata": {},
          "execution_count": 4
        }
      ]
    },
    {
      "cell_type": "code",
      "source": [
        "from sklearn import model_selection\n",
        "X_train, X_test, Y_train, Y_test = model_selection.train_test_split(X, Y, test_size = 0.3)\n",
        "X_train.shape"
      ],
      "metadata": {
        "colab": {
          "base_uri": "https://localhost:8080/"
        },
        "id": "8wpF7nQEzvZq",
        "outputId": "ac9de28a-a567-4818-fcff-a7859bb45c33"
      },
      "execution_count": 5,
      "outputs": [
        {
          "output_type": "execute_result",
          "data": {
            "text/plain": [
              "(70,)"
            ]
          },
          "metadata": {},
          "execution_count": 5
        }
      ]
    },
    {
      "cell_type": "code",
      "source": [
        "def fit(X_train, Y_train):\n",
        "  num = (X_train*Y_train).mean() - X_train.mean() * Y_train.mean()\n",
        "  den = (X_train**2).mean() - X_train.mean()**2\n",
        "  m = num/den\n",
        "  c = Y_train.mean() - m * X_train.mean()\n",
        "  return m, c"
      ],
      "metadata": {
        "id": "pUnwlkI-0C5e"
      },
      "execution_count": 7,
      "outputs": []
    },
    {
      "cell_type": "code",
      "source": [
        "def predict(x, m, c):\n",
        "    return m * x + c"
      ],
      "metadata": {
        "id": "HN-Urj5549x7"
      },
      "execution_count": 19,
      "outputs": []
    },
    {
      "cell_type": "code",
      "source": [
        "def score(y_truth, y_pred):\n",
        "    u = ((y_truth - y_pred)**2).sum()\n",
        "    v = ((y_truth - y_truth.mean())**2).sum()\n",
        "    return 1 - u/v"
      ],
      "metadata": {
        "id": "onzfFfnb5BAi"
      },
      "execution_count": 20,
      "outputs": []
    },
    {
      "cell_type": "code",
      "source": [
        "def cost (x, y, m , c):\n",
        "    return ((y - m * x - c)**2).mean()"
      ],
      "metadata": {
        "id": "TRQHRGQb5E4G"
      },
      "execution_count": 21,
      "outputs": []
    },
    {
      "cell_type": "code",
      "source": [
        "m, c = fit(X_train, Y_train)\n",
        "# Test data\n",
        "y_test_pred = predict(X_test, m, c)\n",
        "print(\"Test Score: \",score(Y_test, y_test_pred))\n",
        "\n",
        "# Train data\n",
        "y_train_pred = predict(X_train, m, c)\n",
        "print(\"Train Score:\", score(Y_train, y_train_pred))\n",
        "print(\"M:\", m)\n",
        "print(\"C:\", c)\n",
        "print(\"Cost on training data:\", cost(X_train,Y_train, m, c ))\n"
      ],
      "metadata": {
        "id": "0lwdteM55GLm",
        "outputId": "5a8b40fe-8df8-49f0-e4a0-8c107ebd6b14",
        "colab": {
          "base_uri": "https://localhost:8080/"
        }
      },
      "execution_count": 22,
      "outputs": [
        {
          "output_type": "stream",
          "name": "stdout",
          "text": [
            "Test Score:  0.6615318529131846\n",
            "Train Score: 0.5536324568058495\n",
            "M: 1.2939484305479982\n",
            "C: 10.056109779168196\n",
            "Cost on training data: 109.55979095419094\n"
          ]
        }
      ]
    },
    {
      "source": [
        "from sklearn.metrics import mean_squared_error\n",
        "mse_classifier = mean_squared_error(Y_test, y_test_pred)\n",
        "\n",
        "# Calculate MSE using the cost function and assign it to mse_self_implement\n",
        "mse_self_implement = cost(X_train, Y_train, m, c)\n",
        "\n",
        "print(\"MSE calculated using self implemented code :\",mse_self_implement)\n",
        "print(\"MSE calculated using Sklearn's implementation:\", mse_classifier)"
      ],
      "cell_type": "code",
      "metadata": {
        "id": "JW1k7Y6G57h8",
        "outputId": "fff25aa0-8216-4457-ce4f-77774384a4b3",
        "colab": {
          "base_uri": "https://localhost:8080/"
        }
      },
      "execution_count": 27,
      "outputs": [
        {
          "output_type": "stream",
          "name": "stdout",
          "text": [
            "MSE calculated using self implemented code : 109.55979095419094\n",
            "MSE calculated using Sklearn's implementation: 113.63854822335477\n"
          ]
        }
      ]
    }
  ]
}