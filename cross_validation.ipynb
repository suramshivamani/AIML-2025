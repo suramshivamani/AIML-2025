{
  "nbformat": 4,
  "nbformat_minor": 0,
  "metadata": {
    "colab": {
      "provenance": [],
      "authorship_tag": "ABX9TyOD072ot+avToIdYbhKRBDb",
      "include_colab_link": true
    },
    "kernelspec": {
      "name": "python3",
      "display_name": "Python 3"
    },
    "language_info": {
      "name": "python"
    }
  },
  "cells": [
    {
      "cell_type": "markdown",
      "metadata": {
        "id": "view-in-github",
        "colab_type": "text"
      },
      "source": [
        "<a href=\"https://colab.research.google.com/github/suramshivamani/AIML-2025/blob/main/cross_validation.ipynb\" target=\"_parent\"><img src=\"https://colab.research.google.com/assets/colab-badge.svg\" alt=\"Open In Colab\"/></a>"
      ]
    },
    {
      "source": [
        "import numpy as np\n",
        "from sklearn import datasets\n",
        "from sklearn.model_selection import train_test_split\n",
        "from sklearn.linear_model import LinearRegression\n",
        "from sklearn.model_selection import cross_val_score\n",
        "from sklearn.model_selection import KFold # Import KFold from sklearn.model_selection\n",
        "\n",
        "\n",
        "iris = datasets.load_iris()\n",
        "x_train, x_test, y_train, y_test = train_test_split(iris.data, iris.target, test_size=0.2)\n",
        "\n",
        "clf = LinearRegression()\n",
        "cross_val_score(clf, iris.data, iris.target, cv=KFold(n_splits=3, shuffle=True, random_state=0)) # Use KFold with n_splits, shuffle, and random_state parameters"
      ],
      "cell_type": "code",
      "metadata": {
        "colab": {
          "base_uri": "https://localhost:8080/"
        },
        "id": "Ew59MJyx-QN-",
        "outputId": "673d0f94-3c39-415a-c22b-c2074910e7bd"
      },
      "execution_count": 9,
      "outputs": [
        {
          "output_type": "execute_result",
          "data": {
            "text/plain": [
              "array([0.90322728, 0.92527008, 0.94214064])"
            ]
          },
          "metadata": {},
          "execution_count": 9
        }
      ]
    },
    {
      "source": [
        "import numpy as np\n",
        "from sklearn import datasets\n",
        "from sklearn.model_selection import train_test_split\n",
        "from sklearn.linear_model import LinearRegression  # Changed 'linearregression' to 'LinearRegression'\n",
        "from sklearn.model_selection import cross_val_score # Changed from sklearn.model to sklearn.model_selection"
      ],
      "cell_type": "code",
      "metadata": {
        "id": "hx23wgYD8-N2"
      },
      "execution_count": 10,
      "outputs": []
    },
    {
      "cell_type": "code",
      "source": [
        "iris=datasets.load_iris()\n",
        "x_train,x_test,y_train,y_test=train_test_split(iris.data,iris.target,test_size=0.2)\n"
      ],
      "metadata": {
        "id": "Uh-iXUjD8wBE"
      },
      "execution_count": 11,
      "outputs": []
    },
    {
      "source": [
        "clf = LinearRegression()\n",
        "cross_val_score(clf, iris.data, iris.target, cv=KFold(n_splits=3, shuffle=True, random_state=0)) # Pass n_splits, shuffle, and random_state as keyword arguments"
      ],
      "cell_type": "code",
      "metadata": {
        "colab": {
          "base_uri": "https://localhost:8080/"
        },
        "id": "oCv3BQSS-a-D",
        "outputId": "2697f2fe-e98c-4c20-e4bc-ae1c373dd5d1"
      },
      "execution_count": 13,
      "outputs": [
        {
          "output_type": "execute_result",
          "data": {
            "text/plain": [
              "array([0.90322728, 0.92527008, 0.94214064])"
            ]
          },
          "metadata": {},
          "execution_count": 13
        }
      ]
    },
    {
      "cell_type": "code",
      "source": [],
      "metadata": {
        "id": "tONpNoPd9Tjb"
      },
      "execution_count": null,
      "outputs": []
    }
  ]
}