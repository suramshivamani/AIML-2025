{
  "nbformat": 4,
  "nbformat_minor": 0,
  "metadata": {
    "colab": {
      "provenance": [],
      "authorship_tag": "ABX9TyP/hIkn1BdWsGDrjnRyaP1t",
      "include_colab_link": true
    },
    "kernelspec": {
      "name": "python3",
      "display_name": "Python 3"
    },
    "language_info": {
      "name": "python"
    }
  },
  "cells": [
    {
      "cell_type": "markdown",
      "metadata": {
        "id": "view-in-github",
        "colab_type": "text"
      },
      "source": [
        "<a href=\"https://colab.research.google.com/github/suramshivamani/AIML-2025/blob/main/Untitled17.ipynb\" target=\"_parent\"><img src=\"https://colab.research.google.com/assets/colab-badge.svg\" alt=\"Open In Colab\"/></a>"
      ]
    },
    {
      "cell_type": "code",
      "execution_count": 1,
      "metadata": {
        "id": "fL2HuSm17Phn"
      },
      "outputs": [],
      "source": [
        "import numpy as np"
      ]
    },
    {
      "cell_type": "code",
      "source": [
        "data = np.loadtxt(\"https://files.codingninjas.in/data-6984.csv\", delimiter = \",\")\n",
        "data.shape"
      ],
      "metadata": {
        "colab": {
          "base_uri": "https://localhost:8080/"
        },
        "id": "vgtPkoaP9iBN",
        "outputId": "2ab3cf72-75f2-4ce9-857a-65a548289141"
      },
      "execution_count": 2,
      "outputs": [
        {
          "output_type": "execute_result",
          "data": {
            "text/plain": [
              "(100, 2)"
            ]
          },
          "metadata": {},
          "execution_count": 2
        }
      ]
    },
    {
      "cell_type": "code",
      "source": [
        "def step_gradient(points, learning_rate, m, c):\n",
        "  m_slope = 0\n",
        "  c_slope = 0\n",
        "  N = len(points)\n",
        "  for i in range(N):\n",
        "    x = points[i, 0]\n",
        "    y = points[i, 1]\n",
        "    m_slope += (-2/N) * (y - m * x - c) * x\n",
        "    c_slope += (-2/N) * (y - m * x - c)\n",
        "  new_m = m - learning_rate * m_slope\n",
        "  new_c = c - learning_rate * c_slope\n",
        "  return new_m, new_c\n",
        ""
      ],
      "metadata": {
        "id": "k-n9vk3h9x6t"
      },
      "execution_count": 28,
      "outputs": []
    },
    {
      "cell_type": "code",
      "source": [
        "def gd(points, learning_rate, num_iterations):\n",
        "  m = 0\n",
        "  c = 0\n",
        "  for i in range(num_iterations):\n",
        "    m, c = step_gradient(points, learning_rate,m, c)\n",
        "  return [m, c]\n",
        "#"
      ],
      "metadata": {
        "id": "n1dH7dty8LCX"
      },
      "execution_count": 29,
      "outputs": []
    },
    {
      "cell_type": "code",
      "source": [
        "def cost(points, m, c):\n",
        "  total_cost = 0\n",
        "  N = len(points)\n",
        "  for i in range(N):\n",
        "    x = points[i, 0]\n",
        "    y = points[i, 1]\n",
        "    total_cost += (1/N) * ((y - m * x - c)**2)\n",
        "  return total_cost"
      ],
      "metadata": {
        "id": "Q0QAlhTTAKth"
      },
      "execution_count": 30,
      "outputs": []
    },
    {
      "cell_type": "code",
      "source": [
        "def run():\n",
        "  data = np.loadtxt(\"https://files.codingninjas.in/data-6984.csv\", delimiter = \",\")\n",
        "  learning_rate =0.001\n",
        "  num_iterations = 1000\n",
        "  m, c = gd(data, learning_rate, num_iterations)\n",
        "  print(m, c)\n",
        "\n",
        ""
      ],
      "metadata": {
        "id": "VZ1EYuTI7mPF"
      },
      "execution_count": 31,
      "outputs": []
    },
    {
      "cell_type": "code",
      "source": [
        "m, c = run()"
      ],
      "metadata": {
        "colab": {
          "base_uri": "https://localhost:8080/"
        },
        "id": "4Z0952Cz7V65",
        "outputId": "7744b284-f1e0-493b-fdff-4bd74263b7fd"
      },
      "execution_count": 38,
      "outputs": [
        {
          "output_type": "stream",
          "name": "stdout",
          "text": [
            "nan nan\n"
          ]
        },
        {
          "output_type": "stream",
          "name": "stderr",
          "text": [
            "<ipython-input-28-48b9ce277d94>:8: RuntimeWarning: overflow encountered in scalar add\n",
            "  m_slope += (-2/N) * (y - m * x - c) * x\n",
            "<ipython-input-28-48b9ce277d94>:10: RuntimeWarning: invalid value encountered in scalar subtract\n",
            "  new_m = m - learning_rate * m_slope\n"
          ]
        }
      ]
    },
    {
      "cell_type": "code",
      "source": [],
      "metadata": {
        "id": "O6HpavKeBhba"
      },
      "execution_count": null,
      "outputs": []
    }
  ]
}